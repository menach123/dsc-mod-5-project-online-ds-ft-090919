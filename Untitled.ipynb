{
 "cells": [
  {
   "cell_type": "markdown",
   "metadata": {},
   "source": [
    "### Library"
   ]
  },
  {
   "cell_type": "code",
   "execution_count": 1,
   "metadata": {},
   "outputs": [],
   "source": [
    "import pandas as pd\n",
    "import matplotlib as plt\n",
    "import seaborn as sns\n",
    "import numpy as np\n",
    "state_abb ={\"Alabama\":\"AL\",\"Alaska\":\"AK\",\"Arizona\":\"AZ\",\"Arkansas\":\"AR\",\"California\":\"CA\",\"Colorado\":\"CO\",\"Connecticut\":\"CT\",\"Delaware\":\"DE\",\"Florida\":\"FL\",\"Georgia\":\"GA\",\"Hawaii\":\"HI\",\"Idaho\":\"ID\",\"Illinois\":\"IL\",\"Indiana\":\"IN\",\"Iowa\":\"IA\",\"Kansas\":\"KS\",\"Kentucky\":\"KY\",\"Louisiana\":\"LA\",\"Maine\":\"ME\",\"Maryland\":\"MD\",\"Massachusetts\":\"MA\",\"Michigan\":\"MI\",\"Minnesota\":\"MN\",\"Mississippi\":\"MS\",\"Missouri\":\"MO\",\"Montana\":\"MT\",\"Nebraska\":\"NE\",\"Nevada\":\"NV\",\"New Hampshire\":\"NH\",\"New Jersey\":\"NJ\",\"New Mexico\":\"NM\",\"New York\":\"NY\",\"North Carolina\":\"NC\",\"North Dakota\":\"ND\",\"Ohio\":\"OH\",\"Oklahoma\":\"OK\",\"Oregon\":\"OR\",\"Pennsylvania\":\"PA\",\"Rhode Island\":\"RI\",\"South Carolina\":\"SC\",\"South Dakota\":\"SD\",\"Tennessee\":\"TN\",\"Texas\":\"TX\",\"Utah\":\"UT\",\"Vermont\":\"VT\",\"Virginia\":\"VA\",\"Washington\":\"WA\",\"West Virginia\":\"WV\",\"Wisconsin\":\"WI\",\"Wyoming\":\"WY\",\"Puerto Rico\":\"PR\",\"District of Columbia\":\"DC\"}\n",
    "import warnings\n",
    "warnings.filterwarnings('ignore')"
   ]
  },
  {
   "cell_type": "markdown",
   "metadata": {},
   "source": [
    "#### Poverty\n",
    "https://data.census.gov/cedsci/table?q=poverty&g=0100000US.050000&table=S1701&tid=ACSST1Y2010.S1701&t=Income%20and%20Poverty%3APoverty&lastDisplayedRow=28&vintage=2018&hidePreview=true&moe=false&y=2010&d=ACS%201-Year%20Estimates%20Subject%20Tables"
   ]
  },
  {
   "cell_type": "code",
   "execution_count": 2,
   "metadata": {
    "scrolled": true
   },
   "outputs": [],
   "source": [
    "acs_income2_data = pd.read_csv('ACSDP5Y2012.DP03_data_with_overlays_2019-12-31T163946.csv', skiprows=1)\n",
    "\n",
    "#Removing error columns\n",
    "for i in acs_income2_data.columns:\n",
    "    if 'Error' in i:\n",
    "        acs_income2_data = acs_income2_data.drop(columns = [i])\n",
    "        \n",
    "#converting 'N' and '-' to zeros\n",
    "acs_income2_data = acs_income2_data.apply(lambda x: x.replace('N', 0.0))\n",
    "acs_income2_data = acs_income2_data.apply(lambda x: x.replace('-', 0.0))\n",
    "\n",
    "#Remove X columns\n",
    "for i in acs_income2_data.columns:\n",
    "    if (acs_income2_data[i].astype(str) == '(X)').sum():\n",
    "        acs_income2_data = acs_income2_data.drop(columns = [i])   \n",
    "\n",
    "acs_income2_data['County'] = acs_income2_data['Geographic Area Name'].apply(lambda x: x.split(',')[0])\n",
    "acs_income2_data['County'] = acs_income2_data['County'].apply(lambda x: x.replace(' County',''))\n",
    "acs_income2_data['State'] = acs_income2_data['Geographic Area Name'].apply(lambda x: x.split(',')[1])\n",
    "acs_income2_data.State = acs_income2_data.State.apply(lambda x: state_abb[x[1:]])\n",
    "acs_income2_data['CountyState'] = acs_income2_data.County + acs_income2_data.State\n",
    "\n",
    "transfer_dict = {}\n",
    "for i in acs_income2_data.columns:\n",
    "    j = i.replace('!!',' ')\n",
    "    j = j.replace(' ','_')\n",
    "    j = j.replace('Estimate_','')\n",
    "    transfer_dict.update({i:j})\n",
    "\n",
    "acs_income2_data = acs_income2_data.rename(columns=transfer_dict)\n"
   ]
  },
  {
   "cell_type": "code",
   "execution_count": 3,
   "metadata": {
    "scrolled": true
   },
   "outputs": [],
   "source": [
    "acs_income2_data = acs_income2_data.apply(lambda x: x.replace('-', 0.0))\n",
    "    "
   ]
  },
  {
   "cell_type": "code",
   "execution_count": 4,
   "metadata": {},
   "outputs": [
    {
     "name": "stdout",
     "output_type": "stream",
     "text": [
      "object\n",
      "object\n",
      "object\n",
      "object\n",
      "object\n",
      "object\n",
      "object\n",
      "object\n",
      "object\n",
      "object\n",
      "object\n",
      "object\n",
      "object\n",
      "object\n",
      "object\n",
      "object\n",
      "object\n",
      "object\n",
      "object\n",
      "object\n",
      "object\n",
      "object\n",
      "object\n",
      "object\n",
      "object\n",
      "object\n"
     ]
    }
   ],
   "source": [
    "for i in acs_income2_data.columns:\n",
    "    if acs_income2_data[i].dtype == object:\n",
    "        print(acs_income2_data[i].dtype)"
   ]
  },
  {
   "cell_type": "code",
   "execution_count": 5,
   "metadata": {},
   "outputs": [
    {
     "name": "stdout",
     "output_type": "stream",
     "text": [
      "id     0500000US01001\n",
      "Geographic_Area_Name     Autauga County, Alabama\n",
      "County     Autauga\n",
      "State     AL\n",
      "CountyState     AutaugaAL\n"
     ]
    }
   ],
   "source": [
    "for i in acs_income2_data.columns:\n",
    "    if acs_income2_data[i].dtype == object:\n",
    "        try:\n",
    "            acs_income2_data[i] = acs_income2_data[i].astype(float)\n",
    "        except:\n",
    "            print(i, '   ',acs_income2_data[i].iloc[0])"
   ]
  },
  {
   "cell_type": "code",
   "execution_count": 6,
   "metadata": {
    "scrolled": true
   },
   "outputs": [],
   "source": [
    "import obtain \n",
    "data = obtain.upload_county_acs_data('ACSDP5Y2012.DP05_data_with_overlays_2019-12-31T193014.csv')\n",
    "object_columns = []\n",
    "for i in data.columns:\n",
    "    if data[i].dtype == object:\n",
    "        object_columns.append(i)"
   ]
  },
  {
   "cell_type": "code",
   "execution_count": 7,
   "metadata": {},
   "outputs": [],
   "source": [
    "poverty_df = obtain.upload_county_acs_data('ACSDP5Y2012.DP03_data_with_overlays_2019-12-31T163946.csv')\n",
    "df = poverty_df"
   ]
  },
  {
   "cell_type": "code",
   "execution_count": 8,
   "metadata": {
    "scrolled": true
   },
   "outputs": [],
   "source": [
    "population_df = obtain.upload_county_acs_data('ACSDP5Y2012.DP05_data_with_overlays_2019-12-31T193014.csv')\n",
    "df = obtain.merge_acs_data(df,population_df)\n",
    "df = obtain.remove_duplicate_countystate(df)    "
   ]
  },
  {
   "cell_type": "code",
   "execution_count": 9,
   "metadata": {},
   "outputs": [
    {
     "data": {
      "text/plain": [
       "3214"
      ]
     },
     "execution_count": 9,
     "metadata": {},
     "output_type": "execute_result"
    }
   ],
   "source": [
    "len(df)"
   ]
  },
  {
   "cell_type": "code",
   "execution_count": 10,
   "metadata": {},
   "outputs": [],
   "source": [
    "cms_df = obtain.cms_data()\n",
    "\n"
   ]
  },
  {
   "cell_type": "code",
   "execution_count": 11,
   "metadata": {},
   "outputs": [
    {
     "data": {
      "text/plain": [
       "163065"
      ]
     },
     "execution_count": 11,
     "metadata": {},
     "output_type": "execute_result"
    }
   ],
   "source": [
    "len(cms_df)"
   ]
  },
  {
   "cell_type": "code",
   "execution_count": 12,
   "metadata": {},
   "outputs": [
    {
     "name": "stdout",
     "output_type": "stream",
     "text": [
      "County\n",
      "DRG_Definition\n",
      "Provider_Name\n",
      "Provider_Street_Address\n",
      "Provider_City\n",
      "State\n",
      "Hospital_Referral_Region_Description\n",
      "DRG_id\n",
      "DRG_label\n",
      "CountyState\n"
     ]
    }
   ],
   "source": [
    "for i in cms_df.columns:\n",
    "    if cms_df[i].dtype == object:\n",
    "        print(i)"
   ]
  },
  {
   "cell_type": "code",
   "execution_count": 13,
   "metadata": {},
   "outputs": [
    {
     "name": "stdout",
     "output_type": "stream",
     "text": [
      "163065\n"
     ]
    }
   ],
   "source": [
    "df = cms_df.merge(df.drop(columns =['County','State']), how='left', on=['CountyState'])\n",
    "print(len(df))"
   ]
  },
  {
   "cell_type": "code",
   "execution_count": null,
   "metadata": {},
   "outputs": [],
   "source": []
  }
 ],
 "metadata": {
  "kernelspec": {
   "display_name": "Python [conda env:.conda-learn-env] *",
   "language": "python",
   "name": "conda-env-.conda-learn-env-py"
  },
  "language_info": {
   "codemirror_mode": {
    "name": "ipython",
    "version": 3
   },
   "file_extension": ".py",
   "mimetype": "text/x-python",
   "name": "python",
   "nbconvert_exporter": "python",
   "pygments_lexer": "ipython3",
   "version": "3.6.6"
  }
 },
 "nbformat": 4,
 "nbformat_minor": 2
}
