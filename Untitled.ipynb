{
 "cells": [
  {
   "cell_type": "markdown",
   "metadata": {},
   "source": [
    "# Module 5 Final Project\n",
    "\n",
    "\n",
    "## Introduction\n",
    "\n",
    "As part of Module 5 of Flatiron Data Science Program (Machine Learning), I select a dataset for the Centers for Medicare & Medicaid Services (CMS),  <a href=\"https://data.cms.gov/Medicare-Inpatient/Inpatient-Prospective-Payment-System-IPPS-Provider/97k6-zzx3\">“Inpatient Prospective Payment System (IPPS) Provider Summary for the Top 100 Diagnosis-Related Groups (DRG) - FY2011”.</a> There are 3,*** medical providers  and cost information on top 100 most frequently billed discharges. I combined that information from the <a href=\"https://data.cms.gov/Medicare-Inpatient/Inpatient-Prospective-Payment-System-IPPS-Provider/97k6-zzx3\">American Community Survey (ACS)</a> with county demographic, income, poverty, and commuting information. Using ACS data, I built models to predict  high cost areas, and with these models analyze  the feature importance of individual ACS classes. \n",
    "\n",
    "## Objectives\n",
    "\n",
    "<ul>\n",
    "\t<li>Attempt to Model the Cost Ratio from a Given Provider/Procedure using the below methods\n",
    "    <ul>\n",
    "        <li>Cluster</li>\n",
    "        <li>Decision Tree</li>\n",
    "        <li>Decision Tree Regressor</li>\n",
    "        <li>Random Forest</li>\n",
    "    </ul>\n",
    "    <li>Using attributes of these models like feature importance to analyze the information gathered from the ACS data.</li>\n",
    "</ul>"
   ]
  },
  {
   "cell_type": "markdown",
   "metadata": {},
   "source": [
    "## Exploration of the Data"
   ]
  },
  {
   "cell_type": "markdown",
   "metadata": {},
   "source": [
    "### Centers for Medicare & Medicaid Services (CMS)"
   ]
  },
  {
   "cell_type": "markdown",
   "metadata": {},
   "source": [
    "<details><summary>Procedure Labels</summary>\n",
    "\n",
    "**DRG Definition**\n",
    "    \n",
    "DRG (diagnosis-related group) definition is a payment categories that are used for the purpose of reimbursing hospitals (especially for Medicare). Each definition represents particular clas for each case in a given category with a fixed fee regardless of the actual costs incurred. An example of a DRG definftion can be a seen below. There is 100 individual defintion in the study.\n",
    "\n",
    "'057 - DEGENERATIVE NERVOUS SYSTEM DISORDERS W/O MCC'\n",
    "\n",
    "**ID**\n",
    "\n",
    "There is designated ID number for each definition (see \"057\").\n",
    "\n",
    "**Label**\n",
    "\n",
    "There are 57 individual procedure names. (see \"DEGENERATIVE NERVOUS SYSTEM DISORDERS\").\n",
    "\n",
    "**Complications / Comorbidity Conditions**\n",
    "\n",
    "In some definitions have pre-existing complication or comordibity information that effect the treat for given procedure. These are options for these information: \n",
    "    <ul>\n",
    "        <li>without_ccmcc</li>\n",
    "        <li>with_mcc</li>\n",
    "        <li>with_cc</li>\n",
    "        <li>with_ccmcc</li>\n",
    "    </ul>\n",
    "\n",
    "</details>"
   ]
  },
  {
   "cell_type": "markdown",
   "metadata": {},
   "source": [
    "<details><summary>Provider Information</summary>\n",
    "\n",
    "**Provider Id**\n",
    "\n",
    "The CMS Certification Number (CCN) assigned to the Medicare certified hospital facility.\n",
    "\n",
    "**Provider Name**\n",
    "\n",
    "The name of the provider.\n",
    "\n",
    "**Provider Street Address**\n",
    "\n",
    "The provider’s street address.\n",
    "\n",
    "**Provider City**\n",
    "\n",
    "The city where the provider is located.\n",
    "\n",
    "**Provider State**\n",
    "\n",
    "The state where the provider is located.\n",
    "\n",
    "**Provider Zip Code**\n",
    "\n",
    "The provider’s zip code.\n",
    "\n",
    "**Provider HRR**\n",
    "\n",
    "The Hospital Referral Region (HRR) where the provider is located\n",
    " \n",
    "</details>"
   ]
  },
  {
   "cell_type": "markdown",
   "metadata": {},
   "source": [
    "<details><summary>Cost Information</summary>\n",
    "\n",
    "**Total Discharges**\n",
    "\n",
    "The number of discharges billed by the provider for inpatient hospital services.\n",
    "\n",
    "**Average Covered Charges**\n",
    "\n",
    "The provider's average charge for services covered by Medicare for all\n",
    "discharges in the MS-DRG. These will vary from hospital to hospital because of differences in hospital\n",
    "charge structures.\n",
    "\n",
    "**Average Total Payments**\n",
    "\n",
    "The average total payments to all providers for the MS-DRG including the MSDRG amount, teaching, disproportionate share, capital, and outlier payments for all cases. Also included in average total payments are co-payment and deductible amounts that the patient is responsible for and any additional payments by third parties for coordination of benefits.\n",
    "\n",
    "**Average Medicare Payments**\n",
    "\n",
    "The average amount that Medicare pays to the provider for Medicare's\n",
    "share of the MS-DRG. \n",
    "\n",
    "**Cost Ratio (Calculated in Pre Processing)**\n",
    "\n",
    "The ratio of the Average Total Payment divided by the most expensive cost for the for that particular DRG definition\n",
    "\n",
    "</details>"
   ]
  },
  {
   "cell_type": "markdown",
   "metadata": {},
   "source": [
    "###  American Community Survey (ACS)\n",
    "\n",
    "American Community Survey is ongoing survey conducted by the US Census Bureau . The survey collect various information about localities all across the US providing a valuable resource for body public and private researcher and planners. For the  model I use data the 2012 survey. Below are categories selected."
   ]
  },
  {
   "cell_type": "markdown",
   "metadata": {},
   "source": [
    "<ul>\n",
    "    <li>Employment Status</li>\n",
    "    <li>Commuting to Work</li>\n",
    "    <li>Occupation</li>\n",
    "    <li>Industry</li>\n",
    "    <li>Class of Worker</li>\n",
    "    <li>Income and Benefits</li>\n",
    "    <li>Health Insurance Coverage</li>\n",
    "    <li>Poverty</li>\n",
    "    <li>Sex and Age</li>\n",
    "    <li>Race</li>\n",
    "    <li>Poverty</li>\n",
    "</ul>\n"
   ]
  },
  {
   "cell_type": "markdown",
   "metadata": {},
   "source": [
    "## Modeling with Results"
   ]
  },
  {
   "cell_type": "markdown",
   "metadata": {},
   "source": [
    "<details><summary>Clustering</summary>\n",
    "\n",
    "I attempted to use clustering to find groupings in the  ACS data, CMS data, and combined data. Unfortunate I did not find distinct clusters based on the calinski harabasz score. See results of the clustering for various cluster sizes.\n",
    "\n",
    "![](Image/cluster.png)\n",
    "\n",
    "</details>"
   ]
  },
  {
   "cell_type": "markdown",
   "metadata": {},
   "source": [
    "<details><summary>Decision Tree Regressor</summary>\n",
    "\n",
    "I also attempted to use regression with decision trees because I wanted to produce a continuous result. The output did not effectively reflect the data. See results compared to the actual data in the below graph. \n",
    "\n",
    "![](Image/regression_decision_tree.png)\n",
    "\n",
    "</details>"
   ]
  },
  {
   "cell_type": "markdown",
   "metadata": {},
   "source": [
    "##### Random Forest\n",
    " \n",
    "I decided to bin my target data into three columns: top 25% of cost ratios, and everything else. This binning strategy leads to an imbalanced output with the lower value being significantly more than the extreme bin. This imbalance leads the model to over select for the lower bin. In order remedy this problem, we oversampled the top 25% through random choice with replacement. The final model produced good result with a 80.5% accuracy. \n",
    "\n",
    "![](Image/random_forest.png)\n",
    "\n"
   ]
  },
  {
   "cell_type": "markdown",
   "metadata": {},
   "source": [
    "## Interpreting Feature Importance\n",
    "\n",
    "\n",
    "\n",
    "\n",
    "\n"
   ]
  },
  {
   "cell_type": "markdown",
   "metadata": {},
   "source": [
    "Using the feature importance method in scikit learn, I selected the 3 most influential ACS data features in the Random Forest model to explore, and those top features were all commuting to work data."
   ]
  },
  {
   "cell_type": "markdown",
   "metadata": {},
   "source": [
    "<details><summary>Percent of People that Used Public Transportation</summary>\n",
    "\n",
    "The below graph display the ratio of the payment to the maximiuim procedure payment versus to the percent of county residents use public transport. As can be see in the graph, the average of the ratio for the binned values increased as the percent of pubilc transport users increased. The averages of the three largest categories are above the 25% threshold.\n",
    "\n",
    "![](Image/pubilc_transport.png)\n",
    "\n",
    "</details>"
   ]
  },
  {
   "cell_type": "markdown",
   "metadata": {},
   "source": [
    "<details><summary> Percent of People that Drive Alone </summary>\n",
    "\n",
    "This graph shows the cost ratio versus the percent of county residents that drive to work alone using a car, tuck , or van. Inverse to the previous graph, the average cost ratio decreased as the binned percents increased. The three smallest bins' averages were above the threshold.\n",
    "\n",
    "![](Image/driving_alone.png)\n",
    "\n",
    "</details>"
   ]
  },
  {
   "cell_type": "markdown",
   "metadata": {},
   "source": [
    "<details><summary>Percent of People that Walk</summary>\n",
    "\n",
    "The below graph display the cost ratio versus to the percent of county residents that walk. The feature produces more mixed results. The average ratio for the binned values move around as the percent of pubilc transport users increased.\n",
    "\n",
    "![](Image/walked.png)\n",
    "\n",
    "</details>"
   ]
  },
  {
   "cell_type": "code",
   "execution_count": 2,
   "metadata": {},
   "outputs": [
    {
     "name": "stderr",
     "output_type": "stream",
     "text": [
      "[NbConvertApp] Converting notebook Untitled.ipynb to markdown\n",
      "[NbConvertApp] Writing 7311 bytes to Untitled.md\n"
     ]
    }
   ],
   "source": [
    "!jupyter nbconvert --to markdown Untitled.ipynb"
   ]
  },
  {
   "cell_type": "code",
   "execution_count": 3,
   "metadata": {},
   "outputs": [],
   "source": [
    "!mv Untitled.md README.MD"
   ]
  },
  {
   "cell_type": "code",
   "execution_count": null,
   "metadata": {},
   "outputs": [],
   "source": []
  }
 ],
 "metadata": {
  "kernelspec": {
   "display_name": "Python [conda env:.conda-learn-env] *",
   "language": "python",
   "name": "conda-env-.conda-learn-env-py"
  },
  "language_info": {
   "codemirror_mode": {
    "name": "ipython",
    "version": 3
   },
   "file_extension": ".py",
   "mimetype": "text/x-python",
   "name": "python",
   "nbconvert_exporter": "python",
   "pygments_lexer": "ipython3",
   "version": "3.6.6"
  }
 },
 "nbformat": 4,
 "nbformat_minor": 2
}
