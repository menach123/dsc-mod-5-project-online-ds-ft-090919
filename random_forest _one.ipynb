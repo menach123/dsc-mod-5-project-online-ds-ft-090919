{
 "cells": [
  {
   "cell_type": "markdown",
   "metadata": {},
   "source": [
    "### Library"
   ]
  },
  {
   "cell_type": "code",
   "execution_count": 1,
   "metadata": {},
   "outputs": [],
   "source": [
    "import pandas as pd\n",
    "import numpy as np\n",
    "import matplotlib.pyplot as plt\n",
    "import matplotlib\n",
    "import seaborn as sns\n",
    "current_palette = sns.color_palette()\n",
    "import warnings\n",
    "warnings.filterwarnings('ignore')\n",
    "import itertools\n",
    "import pandas as pd\n",
    "import numpy as np\n",
    "import statsmodels.api as sm\n",
    "import matplotlib.pyplot as plt\n",
    "from matplotlib.pylab import rcParams\n",
    "from IPython.display import clear_output\n",
    "sns.set_style('darkgrid')\n",
    "np.random.seed(0)\n",
    "from sklearn.model_selection import train_test_split\n",
    "from sklearn.metrics import accuracy_score, confusion_matrix, classification_report\n",
    "from sklearn.tree import DecisionTreeClassifier\n",
    "from sklearn.ensemble import BaggingClassifier, RandomForestClassifier\n",
    "from sklearn.preprocessing import StandardScaler\n",
    "import retrieve as rt\n",
    "\n",
    "def plot_feature_importances(model):\n",
    "    n_features = data_train.shape[1]\n",
    "    plt.figure(figsize=(8,34))\n",
    "    plt.barh(range(n_features), model.feature_importances_, align='center') \n",
    "    plt.yticks(np.arange(n_features), data_train.columns.values) \n",
    "    plt.xlabel('Feature importance')\n",
    "    plt.ylabel('Feature')\n"
   ]
  },
  {
   "cell_type": "markdown",
   "metadata": {},
   "source": [
    "### Obtain"
   ]
  },
  {
   "cell_type": "code",
   "execution_count": 2,
   "metadata": {
    "scrolled": true
   },
   "outputs": [],
   "source": [
    "total = rt.merged_data()\n",
    "clean = rt.clean_data(total)\n",
    "income = rt.income_data(total)\n",
    "poverty = rt.poverty_data(total)\n",
    "race = rt.race_data(total)\n",
    "population = rt.sex_age_data(total)"
   ]
  },
  {
   "cell_type": "code",
   "execution_count": 3,
   "metadata": {},
   "outputs": [],
   "source": [
    "for i in clean.columns:\n",
    "    if clean[i].isna().sum() > 0:\n",
    "        print(i)"
   ]
  },
  {
   "cell_type": "code",
   "execution_count": 4,
   "metadata": {
    "scrolled": false
   },
   "outputs": [],
   "source": [
    "data = clean\n",
    "multiplier = 0"
   ]
  },
  {
   "cell_type": "code",
   "execution_count": 5,
   "metadata": {
    "scrolled": true
   },
   "outputs": [
    {
     "data": {
      "text/plain": [
       "Percent_Race_alone_or_in_combination_with_one_or_more_other_races_Total_population_Some_other_race    0.049260\n",
       "with_cc                                                                                               0.043190\n",
       "with_mcc                                                                                              0.039730\n",
       "Percent_Race_alone_or_in_combination_with_one_or_more_other_races_Total_population_Asian              0.032701\n",
       "CARDIAC ARRHYTHMIA & CONDUCTION DISORDERS                                                             0.031912\n",
       "Provider_Zip_Code                                                                                     0.031526\n",
       "Percent_RACE_Total_population_One_race_Asian                                                          0.030386\n",
       "Percent_HISPANIC_OR_LATINO_AND_RACE_Total_population_Not_Hispanic_or_Latino_White_alone               0.027455\n",
       "Percent_RACE_Total_population_One_race_Some_other_race                                                0.026013\n",
       "Percent_RACE_Total_population_One_race_Asian_Chinese                                                  0.024452\n",
       "Percent_Race_alone_or_in_combination_with_one_or_more_other_races_Total_population                    0.023847\n",
       "Percent_HISPANIC_OR_LATINO_AND_RACE_Total_population_Not_Hispanic_or_Latino_Asian_alone               0.021794\n",
       "dtype: float64"
      ]
     },
     "execution_count": 5,
     "metadata": {},
     "output_type": "execute_result"
    }
   ],
   "source": [
    "target_column='ratio_to_max_payment'\n",
    "\n",
    "y= data.ratio_to_max_payment >= multiplier*data.ratio_to_max_payment.std()+data.ratio_to_max_payment.mean()\n",
    "X = data.drop(columns=[target_column])\n",
    "data_train, data_test, target_train, target_test = train_test_split(X, y, \n",
    "                                                                    test_size = 0.25)\n",
    "\n",
    "\n",
    "forest = RandomForestClassifier(n_estimators=100, criterion='entropy', max_depth=5)\n",
    "forest.fit(data_train,target_train)\n",
    "df_feature_importance = pd.Series(data = forest.feature_importances_, index= X.columns).sort_values(ascending=False)\n",
    "df_feature_importance[:12]"
   ]
  },
  {
   "cell_type": "code",
   "execution_count": 6,
   "metadata": {},
   "outputs": [
    {
     "data": {
      "text/plain": [
       "(0.6728307254623044, 0.6732647009185814)"
      ]
     },
     "execution_count": 6,
     "metadata": {},
     "output_type": "execute_result"
    }
   ],
   "source": [
    "forest.score(data_train,target_train), forest.score(data_test,target_test)"
   ]
  },
  {
   "cell_type": "code",
   "execution_count": 22,
   "metadata": {
    "scrolled": false
   },
   "outputs": [
    {
     "name": "stdout",
     "output_type": "stream",
     "text": [
      "Percent_HISPANIC_OR_LATINO_AND_RACE_Total_population_Not_Hispanic_or_Latino_Asian_alone                           0.042577\n",
      "Percent_RACE_Total_population_One_race_Asian_Chinese                                                              0.038952\n",
      "Percent_HISPANIC_OR_LATINO_AND_RACE_Total_population_Not_Hispanic_or_Latino_White_alone                           0.035836\n",
      "Total_housing_units                                                                                               0.033802\n",
      "Percent_RACE_Total_population_One_race_Asian                                                                      0.033015\n",
      "Percent_SEX_AND_AGE_Total_population_18_years_and_over.1                                                          0.030816\n",
      "Percent_Race_alone_or_in_combination_with_one_or_more_other_races_Total_population_Asian                          0.029106\n",
      "SEX_AND_AGE_Total_population                                                                                      0.027860\n",
      "Percent_Race_alone_or_in_combination_with_one_or_more_other_races_Total_population_White                          0.027194\n",
      "_Average_Total_Payments_                                                                                          0.024924\n",
      "Provider_Zip_Code                                                                                                 0.023594\n",
      "Percent_HISPANIC_OR_LATINO_AND_RACE_Total_population_Hispanic_or_Latino_(of_any_race)_Other_Hispanic_or_Latino    0.023066\n",
      "Households_Total                                                                                                  0.022271\n",
      "CITIZEN_VOTING_AGE_POPULATION_Citizen_18_and_over_population_Male                                                 0.021819\n",
      "Percent_RACE_Total_population_One_race_White                                                                      0.021597\n",
      "Percent_RACE_Total_population_One_race_Asian_Filipino                                                             0.020166\n",
      "CITIZEN_VOTING_AGE_POPULATION_Citizen_18_and_over_population_Female                                               0.019393\n",
      "Percent_HISPANIC_OR_LATINO_AND_RACE_Total_population                                                              0.018192\n",
      "Percent_RACE_Total_population_One_race_Some_other_race                                                            0.015077\n",
      "Percent_below_poverty_level_Population_for_whom_poverty_status_is_determined_AGE_65_years_and_over                0.013338\n",
      "dtype: float64\n",
      "0.8821354807081837 0.8814282614461026\n"
     ]
    }
   ],
   "source": [
    "model_clean, feat = rt.random_forest(clean, multiplier=1)"
   ]
  },
  {
   "cell_type": "code",
   "execution_count": 8,
   "metadata": {
    "scrolled": true
   },
   "outputs": [],
   "source": [
    "data = income"
   ]
  },
  {
   "cell_type": "code",
   "execution_count": 9,
   "metadata": {},
   "outputs": [
    {
     "data": {
      "text/plain": [
       "CARDIAC ARRHYTHMIA & CONDUCTION DISORDERS       0.101306\n",
       "Households_Total                                0.078203\n",
       "Families_Total                                  0.077163\n",
       "SEX_AND_AGE_Total_population                    0.059640\n",
       "Nonfamily_households_Median_income_(dollars)    0.051610\n",
       "LAPAROSCOPIC CHOLECYSTECTOMY                    0.035822\n",
       "Households_$150,000_to_$199,999                 0.033801\n",
       "BRONCHITIS & ASTHMA                             0.031283\n",
       "Families_$50,000_to_$74,999                     0.025316\n",
       "Households_$200,000_or_more                     0.024069\n",
       "Households_$25,000_to_$34,999                   0.023999\n",
       "Households_$50,000_to_$74,999                   0.023413\n",
       "dtype: float64"
      ]
     },
     "execution_count": 9,
     "metadata": {},
     "output_type": "execute_result"
    }
   ],
   "source": [
    "target_column='ratio_to_max_payment'\n",
    "y = pd.cut(data[target_column],3).astype(str)\n",
    "y= data.ratio_to_max_payment >= multiplier*data.ratio_to_max_payment.std()+data.ratio_to_max_payment.mean()\n",
    "X = data.drop(columns=[target_column])\n",
    "data_train, data_test, target_train, target_test = train_test_split(X, y, \n",
    "                                                                    test_size = 0.25)\n",
    "\n",
    "\n",
    "forest = RandomForestClassifier(n_estimators=100, criterion='entropy', max_depth=5)\n",
    "forest.fit(data_train,target_train)\n",
    "df_feature_importance = pd.Series(data = forest.feature_importances_, index= X.columns).sort_values(ascending=False)\n",
    "df_feature_importance[:12]"
   ]
  },
  {
   "cell_type": "code",
   "execution_count": 10,
   "metadata": {},
   "outputs": [
    {
     "data": {
      "text/plain": [
       "(0.6705965555207304, 0.6764954070930878)"
      ]
     },
     "execution_count": 10,
     "metadata": {},
     "output_type": "execute_result"
    }
   ],
   "source": [
    "forest.score(data_train,target_train), forest.score(data_test,target_test)"
   ]
  },
  {
   "cell_type": "code",
   "execution_count": null,
   "metadata": {},
   "outputs": [],
   "source": []
  },
  {
   "cell_type": "code",
   "execution_count": 11,
   "metadata": {
    "scrolled": true
   },
   "outputs": [],
   "source": [
    "data = poverty"
   ]
  },
  {
   "cell_type": "code",
   "execution_count": 12,
   "metadata": {},
   "outputs": [
    {
     "data": {
      "text/plain": [
       "SEX_AND_AGE_Total_population                                                                                                                  0.183912\n",
       "CARDIAC ARRHYTHMIA & CONDUCTION DISORDERS                                                                                                     0.105649\n",
       "BRONCHITIS & ASTHMA                                                                                                                           0.062106\n",
       "LAPAROSCOPIC CHOLECYSTECTOMY                                                                                                                  0.061264\n",
       "Percent_below_poverty_level_UNRELATED_INDIVIDUALS_FOR_WHOM_POVERTY_STATUS_IS_DETERMINED_Did_not_work                                          0.061028\n",
       "Percent_below_poverty_level_Population_for_whom_poverty_status_is_determined_AGE_65_years_and_over                                            0.048847\n",
       "PULMONARY EDEMA & RESPIRATORY FAILURE                                                                                                         0.044911\n",
       "PULMONARY EMBOLISM                                                                                                                            0.039342\n",
       "Percent_below_poverty_level_UNRELATED_INDIVIDUALS_FOR_WHOM_POVERTY_STATUS_IS_DETERMINED_Worked_full-time,_year-round_in_the_past_12_months    0.036424\n",
       "SIGNS & SYMPTOMS                                                                                                                              0.031848\n",
       "MAJOR GASTROINTESTINAL DISORDERS & PERITONEAL INFECTIONS                                                                                      0.030263\n",
       "Percent_below_poverty_level_Population_for_whom_poverty_status_is_determined_AGE_60_years_and_over                                            0.028203\n",
       "dtype: float64"
      ]
     },
     "execution_count": 12,
     "metadata": {},
     "output_type": "execute_result"
    }
   ],
   "source": [
    "target_column='ratio_to_max_payment'\n",
    "y = pd.cut(data[target_column],3).astype(str)\n",
    "y= data.ratio_to_max_payment >= multiplier*data.ratio_to_max_payment.std()+data.ratio_to_max_payment.mean()\n",
    "X = data.drop(columns=[target_column])\n",
    "data_train, data_test, target_train, target_test = train_test_split(X, y, \n",
    "                                                                    test_size = 0.25)\n",
    "\n",
    "\n",
    "forest = RandomForestClassifier(n_estimators=100, criterion='entropy', max_depth=5)\n",
    "forest.fit(data_train,target_train)\n",
    "df_feature_importance = pd.Series(data = forest.feature_importances_, index= X.columns).sort_values(ascending=False)\n",
    "df_feature_importance[:12]"
   ]
  },
  {
   "cell_type": "code",
   "execution_count": 13,
   "metadata": {},
   "outputs": [
    {
     "data": {
      "text/plain": [
       "(0.6856731843350934, 0.6883815126455626)"
      ]
     },
     "execution_count": 13,
     "metadata": {},
     "output_type": "execute_result"
    }
   ],
   "source": [
    "forest.score(data_train,target_train), forest.score(data_test,target_test)"
   ]
  },
  {
   "cell_type": "code",
   "execution_count": null,
   "metadata": {},
   "outputs": [],
   "source": []
  },
  {
   "cell_type": "code",
   "execution_count": 14,
   "metadata": {
    "scrolled": true
   },
   "outputs": [],
   "source": [
    "data = race"
   ]
  },
  {
   "cell_type": "code",
   "execution_count": 15,
   "metadata": {
    "scrolled": true
   },
   "outputs": [
    {
     "data": {
      "text/plain": [
       "Percent_Race_alone_or_in_combination_with_one_or_more_other_races_Total_population_Some_other_race                0.068125\n",
       "Percent_RACE_Total_population_One_race_Asian_Chinese                                                              0.063463\n",
       "Percent_HISPANIC_OR_LATINO_AND_RACE_Total_population_Not_Hispanic_or_Latino_White_alone                           0.057722\n",
       "CARDIAC ARRHYTHMIA & CONDUCTION DISORDERS                                                                         0.057490\n",
       "Percent_Race_alone_or_in_combination_with_one_or_more_other_races_Total_population_Asian                          0.054064\n",
       "Percent_RACE_Total_population_One_race_Some_other_race                                                            0.051739\n",
       "Percent_RACE_Total_population_One_race_Asian                                                                      0.047069\n",
       "Percent_HISPANIC_OR_LATINO_AND_RACE_Total_population_Hispanic_or_Latino_(of_any_race)_Other_Hispanic_or_Latino    0.037650\n",
       "LAPAROSCOPIC CHOLECYSTECTOMY                                                                                      0.037039\n",
       "Percent_HISPANIC_OR_LATINO_AND_RACE_Total_population_Not_Hispanic_or_Latino_Asian_alone                           0.034888\n",
       "Percent_RACE_Total_population_One_race_White                                                                      0.033329\n",
       "Percent_HISPANIC_OR_LATINO_AND_RACE_Total_population                                                              0.029741\n",
       "dtype: float64"
      ]
     },
     "execution_count": 15,
     "metadata": {},
     "output_type": "execute_result"
    }
   ],
   "source": [
    "target_column='ratio_to_max_payment'\n",
    "y = pd.cut(data[target_column],3).astype(str)\n",
    "y= data.ratio_to_max_payment >= multiplier*data.ratio_to_max_payment.std()+data.ratio_to_max_payment.mean()\n",
    "X = data.drop(columns=[target_column])\n",
    "data_train, data_test, target_train, target_test = train_test_split(X, y, \n",
    "                                                                    test_size = 0.25)\n",
    "\n",
    "\n",
    "forest = RandomForestClassifier(n_estimators=100, criterion='entropy', max_depth=5)\n",
    "forest.fit(data_train,target_train)\n",
    "df_feature_importance = pd.Series(data = forest.feature_importances_, index= X.columns).sort_values(ascending=False)\n",
    "df_feature_importance[:12]"
   ]
  },
  {
   "cell_type": "code",
   "execution_count": 16,
   "metadata": {},
   "outputs": [
    {
     "data": {
      "text/plain": [
       "(0.6689008366082407, 0.6663210936181498)"
      ]
     },
     "execution_count": 16,
     "metadata": {},
     "output_type": "execute_result"
    }
   ],
   "source": [
    "forest.score(data_train,target_train), forest.score(data_test,target_test)"
   ]
  },
  {
   "cell_type": "code",
   "execution_count": null,
   "metadata": {},
   "outputs": [],
   "source": []
  },
  {
   "cell_type": "code",
   "execution_count": 17,
   "metadata": {
    "scrolled": true
   },
   "outputs": [],
   "source": [
    "data = population"
   ]
  },
  {
   "cell_type": "code",
   "execution_count": 18,
   "metadata": {},
   "outputs": [
    {
     "data": {
      "text/plain": [
       "CARDIAC ARRHYTHMIA & CONDUCTION DISORDERS                               0.100986\n",
       "SEX_AND_AGE_Total_population                                            0.084360\n",
       "Percent_CITIZEN_VOTING_AGE_POPULATION_Citizen_18_and_over_population    0.073109\n",
       "Percent_SEX_AND_AGE_Total_population_18_years_and_over.1                0.068742\n",
       "Percent_SEX_AND_AGE_Total_population_65_years_and_over.1                0.067971\n",
       "Percent_SEX_AND_AGE_Total_population_65_to_74_years                     0.049434\n",
       "LAPAROSCOPIC CHOLECYSTECTOMY                                            0.044777\n",
       "BRONCHITIS & ASTHMA                                                     0.037852\n",
       "Percent_SEX_AND_AGE_Total_population_25_to_34_years                     0.034073\n",
       "Percent_SEX_AND_AGE_Total_population_75_to_84_years                     0.030986\n",
       "PULMONARY EDEMA & RESPIRATORY FAILURE                                   0.029064\n",
       "MISC DISORDERS OF NUTRITION,METABOLISM,FLUIDS/ELECTROLYTES              0.025548\n",
       "dtype: float64"
      ]
     },
     "execution_count": 18,
     "metadata": {},
     "output_type": "execute_result"
    }
   ],
   "source": [
    "target_column='ratio_to_max_payment'\n",
    "y = pd.cut(data[target_column],3).astype(str)\n",
    "y= data.ratio_to_max_payment >= multiplier*data.ratio_to_max_payment.std()+data.ratio_to_max_payment.mean()\n",
    "X = data.drop(columns=[target_column])\n",
    "data_train, data_test, target_train, target_test = train_test_split(X, y, \n",
    "                                                                    test_size = 0.25)\n",
    "\n",
    "\n",
    "forest = RandomForestClassifier(n_estimators=100, criterion='entropy', max_depth=5)\n",
    "forest.fit(data_train,target_train)\n",
    "df_feature_importance = pd.Series(data = forest.feature_importances_, index= X.columns).sort_values(ascending=False)\n",
    "df_feature_importance[:12]"
   ]
  },
  {
   "cell_type": "code",
   "execution_count": 19,
   "metadata": {},
   "outputs": [
    {
     "data": {
      "text/plain": [
       "(0.662166180453424, 0.6600766689972756)"
      ]
     },
     "execution_count": 19,
     "metadata": {},
     "output_type": "execute_result"
    }
   ],
   "source": [
    "\n",
    "forest.score(data_train,target_train), forest.score(data_test,target_test)"
   ]
  },
  {
   "cell_type": "code",
   "execution_count": null,
   "metadata": {},
   "outputs": [],
   "source": []
  },
  {
   "cell_type": "code",
   "execution_count": null,
   "metadata": {},
   "outputs": [],
   "source": []
  },
  {
   "cell_type": "code",
   "execution_count": null,
   "metadata": {},
   "outputs": [],
   "source": [
    "\n"
   ]
  }
 ],
 "metadata": {
  "kernelspec": {
   "display_name": "Python [conda env:.conda-learn-env] *",
   "language": "python",
   "name": "conda-env-.conda-learn-env-py"
  },
  "language_info": {
   "codemirror_mode": {
    "name": "ipython",
    "version": 3
   },
   "file_extension": ".py",
   "mimetype": "text/x-python",
   "name": "python",
   "nbconvert_exporter": "python",
   "pygments_lexer": "ipython3",
   "version": "3.6.6"
  }
 },
 "nbformat": 4,
 "nbformat_minor": 2
}
