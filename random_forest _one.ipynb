{
 "cells": [
  {
   "cell_type": "markdown",
   "metadata": {},
   "source": [
    "### Library"
   ]
  },
  {
   "cell_type": "code",
   "execution_count": 1,
   "metadata": {},
   "outputs": [],
   "source": [
    "import pandas as pd\n",
    "import numpy as np\n",
    "import matplotlib.pyplot as plt\n",
    "import matplotlib\n",
    "import seaborn as sns\n",
    "current_palette = sns.color_palette()\n",
    "import warnings\n",
    "warnings.filterwarnings('ignore')\n",
    "import itertools\n",
    "import pandas as pd\n",
    "import numpy as np\n",
    "import statsmodels.api as sm\n",
    "import matplotlib.pyplot as plt\n",
    "from matplotlib.pylab import rcParams\n",
    "from IPython.display import clear_output\n",
    "sns.set_style('darkgrid')\n",
    "np.random.seed(0)\n",
    "from sklearn.model_selection import train_test_split\n",
    "from sklearn.metrics import accuracy_score, confusion_matrix\n",
    "import sklearn.metrics as mt\n",
    "from sklearn.tree import DecisionTreeClassifier\n",
    "from sklearn.ensemble import BaggingClassifier, RandomForestClassifier\n",
    "from sklearn.preprocessing import StandardScaler\n",
    "import retrieve as rt\n",
    "from plot_confusion_matrix import plot_confusion_matrix\n",
    "def plot_feature_importances(model):\n",
    "    n_features = data_train.shape[1]\n",
    "    plt.figure(figsize=(8,34))\n",
    "    plt.barh(range(n_features), model.feature_importances_, align='center') \n",
    "    plt.yticks(np.arange(n_features), data_train.columns.values) \n",
    "    plt.xlabel('Feature importance')\n",
    "    plt.ylabel('Feature')\n",
    "import obtain as ob"
   ]
  },
  {
   "cell_type": "markdown",
   "metadata": {},
   "source": [
    "### Obtain"
   ]
  },
  {
   "cell_type": "code",
   "execution_count": 2,
   "metadata": {
    "scrolled": true
   },
   "outputs": [],
   "source": [
    "poverty_df = ob.upload_county_acs_data('ACSDP5Y2012.DP03_data_with_overlays_2019-12-31T163946.csv')\n",
    "df = poverty_df\n",
    "population_df = ob.upload_county_acs_data('ACSDP5Y2012.DP05_data_with_overlays_2019-12-31T193014.csv')\n",
    "df = ob.merge_acs_data(df,population_df)\n",
    "df = ob.remove_duplicate_countystate(df) \n",
    "num_df, object_df = ob.separate_num_columns(df)\n",
    "pull_columns = [i for i in num_df.columns]\n",
    "cms_df = ob.cms_data()\n",
    "df = cms_df.merge(df.drop(columns =['County','State']), how='left', on=['CountyState'])\n",
    "model_df = df\n",
    "target = 'ratio_to_max_payment'\n",
    "step = 10\n",
    "bins = [i/100 for i in range(0,100+step,step)]\n",
    "bins[-1] +=.01\n",
    "cms_labels =ob.cms_procedure_dummy_labels(df).columns\n",
    "num_df, object_df = ob.separate_num_columns(model_df)\n",
    "num_df, a = ob.remove_cms(num_df)"
   ]
  },
  {
   "cell_type": "code",
   "execution_count": 3,
   "metadata": {},
   "outputs": [],
   "source": [
    "def random_forest(data, target_column='ratio_to_max_payment', show=20, n_estimators=100, max_depth = 5):\n",
    "    y= data[target_column]\n",
    "    X = data.drop(columns=[target_column])\n",
    "    data_train, data_test, target_train, target_test = train_test_split(X, y, \n",
    "                                                                        test_size = 0.25)\n",
    "\n",
    "\n",
    "    forest = RandomForestClassifier(n_estimators=n_estimators, criterion='entropy', max_depth=max_depth)\n",
    "    forest.fit(data_train,target_train)\n",
    "    df_feature_importance = pd.Series(data = forest.feature_importances_, index= X.columns).sort_values(ascending=False)\n",
    "    print(df_feature_importance[:show])\n",
    "    print(forest.score(data_train,target_train), forest.score(data_test,target_test))\n",
    "    return forest, df_feature_importance\n"
   ]
  },
  {
   "cell_type": "code",
   "execution_count": 4,
   "metadata": {},
   "outputs": [],
   "source": [
    "dsd = pd.cut(df[target],bins, right=False).unique()\n",
    "dsd = dsd.sort_values().astype(str)\n",
    "num_df[target] = pd.cut(df[target],bins, right=False).astype(str)\n",
    "#num_df[target] = num_df[target].apply(lambda x:'(0.9, 1.0]' if x == 'nan')\n"
   ]
  },
  {
   "cell_type": "code",
   "execution_count": 5,
   "metadata": {
    "scrolled": true
   },
   "outputs": [
    {
     "name": "stdout",
     "output_type": "stream",
     "text": [
      "Percent_COMMUTING_TO_WORK_Public_transportation_(excluding_taxicab)                                         0.051632\n",
      "BRONCHITIS_&_ASTHMA                                                                                         0.042062\n",
      "Percent_COMMUTING_TO_WORK_Car,_truck,_or_van_--_drove_alone                                                 0.039968\n",
      "PULMONARY_EDEMA_&_RESPIRATORY_FAILURE                                                                       0.031252\n",
      "Percent_RACE_One_race_Asian                                                                                 0.030365\n",
      "COMMUTING_TO_WORK_Public_transportation_(excluding_taxicab)                                                 0.024969\n",
      "with_mcc                                                                                                    0.024080\n",
      "Percent_RACE_One_race_Asian_Chinese                                                                         0.023739\n",
      "HISPANIC_OR_LATINO_AND_RACE_Not_Hispanic_or_Latino_Two_or_more_races_Two_races_including_Some_other_race    0.020896\n",
      "SIGNS_&_SYMPTOMS                                                                                            0.020192\n",
      "COMMUTING_TO_WORK_Walked                                                                                    0.020007\n",
      "PERC_CARDIOVASC_PROC                                                                                        0.019620\n",
      "Percent_HISPANIC_OR_LATINO_AND_RACE_Not_Hispanic_or_Latino_Asian_alone                                      0.019206\n",
      "RACE_One_race_Some_other_race                                                                               0.017210\n",
      "with_ccmcc                                                                                                  0.016918\n",
      "RACE_Some_other_race                                                                                        0.016633\n",
      "RACE_One_race_Asian_Chinese                                                                                 0.015526\n",
      "Percent_RACE_Asian                                                                                          0.015316\n",
      "with_cc                                                                                                     0.015269\n",
      "MISC_DISORDERS_OF_NUTRITION,METABOLISM,FLUIDS/ELECTROLYTES                                                  0.014757\n",
      "dtype: float64\n",
      "0.40996582119086167 0.4102337675080335\n"
     ]
    }
   ],
   "source": [
    "model_clean, feat = random_forest(num_df)\n",
    "X = num_df.drop(columns=[target])\n",
    "pred = model_clean.predict(X)\n",
    "cnf_matrix = confusion_matrix(num_df[target], pred)"
   ]
  },
  {
   "cell_type": "code",
   "execution_count": 15,
   "metadata": {},
   "outputs": [
    {
     "data": {
      "text/plain": [
       "range(0, 10)"
      ]
     },
     "execution_count": 15,
     "metadata": {},
     "output_type": "execute_result"
    }
   ],
   "source": [
    "range(cnf_matrix.shape[0])"
   ]
  },
  {
   "cell_type": "code",
   "execution_count": 6,
   "metadata": {},
   "outputs": [
    {
     "data": {
      "image/png": "[encoded data removed]",
      "text/plain": [
       "<Figure size 936x936 with 2 Axes>"
      ]
     },
     "metadata": {
      "needs_background": "light"
     },
     "output_type": "display_data"
    }
   ],
   "source": [
    "\n",
    "ax = plot_confusion_matrix(cnf_matrix, dsd, normalize=False)\n"
   ]
  },
  {
   "cell_type": "code",
   "execution_count": 32,
   "metadata": {
    "scrolled": false
   },
   "outputs": [
    {
     "name": "stdout",
     "output_type": "stream",
     "text": [
      "(0.2, 0.3]\n",
      "with_mcc                                                               0.075025\n",
      "MISC_DISORDERS_OF_NUTRITION,METABOLISM,FLUIDS/ELECTROLYTES             0.045158\n",
      "CARDIAC_ARRHYTHMIA_&_CONDUCTION_DISORDERS                              0.028364\n",
      "COMMUTING_TO_WORK_Public_transportation_(excluding_taxicab)            0.027827\n",
      "RACE_Some_other_race                                                   0.026575\n",
      "Percent_COMMUTING_TO_WORK_Car,_truck,_or_van_--_drove_alone            0.022030\n",
      "RACE_One_race_Asian_Filipino                                           0.019567\n",
      "RACE_One_race_Some_other_race                                          0.019384\n",
      "Percent_RACE_One_race_Asian                                            0.018239\n",
      "Percent_COMMUTING_TO_WORK_Public_transportation_(excluding_taxicab)    0.017745\n",
      "dtype: float64\n",
      "0.7232334134654695 0.7222998994284593\n",
      "(0.3, 0.4]\n",
      "PULMONARY_EDEMA_&_RESPIRATORY_FAILURE                                  0.051127\n",
      "BRONCHITIS_&_ASTHMA                                                    0.050824\n",
      "SIGNS_&_SYMPTOMS                                                       0.043829\n",
      "Percent_COMMUTING_TO_WORK_Car,_truck,_or_van_--_drove_alone            0.035991\n",
      "with_ccmcc                                                             0.034847\n",
      "Percent_RACE_One_race_Asian_Chinese                                    0.034271\n",
      "RESPIRATORY_INFECTIONS_&_INFLAMMATIONS                                 0.030721\n",
      "Percent_COMMUTING_TO_WORK_Public_transportation_(excluding_taxicab)    0.021802\n",
      "ESOPHAGITIS,_GASTROENT_&_MISC_DIGEST_DISORDERS                         0.020612\n",
      "RACE_One_race_Asian_Chinese                                            0.019458\n",
      "dtype: float64\n",
      "0.6116616788500221 0.6136335761768097\n",
      "(0.4, 0.5]\n",
      "Percent_COMMUTING_TO_WORK_Car,_truck,_or_van_--_drove_alone                                                0.039580\n",
      "Percent_COMMUTING_TO_WORK_Public_transportation_(excluding_taxicab)                                        0.033874\n",
      "RACE_Some_other_race                                                                                       0.031336\n",
      "with_mcc                                                                                                   0.027158\n",
      "RACE_One_race_Asian                                                                                        0.027131\n",
      "COMMUTING_TO_WORK_Public_transportation_(excluding_taxicab)                                                0.026221\n",
      "LAPAROSCOPIC_CHOLECYSTECTOMY                                                                               0.022880\n",
      "RACE_One_race_Asian_Chinese                                                                                0.020586\n",
      "HEALTH_INSURANCE_COVERAGE_In_labor_force_Unemployed_With_health_insurance_coverage_With_public_coverage    0.020102\n",
      "CARDIAC_ARRHYTHMIA_&_CONDUCTION_DISORDERS                                                                  0.018930\n",
      "dtype: float64\n",
      "0.8303651735923727 0.8301076851374887\n",
      "(0.1, 0.2]\n",
      "PULMONARY_EDEMA_&_RESPIRATORY_FAILURE    0.120100\n",
      "SIGNS_&_SYMPTOMS                         0.119990\n",
      "BRONCHITIS_&_ASTHMA                      0.107693\n",
      "PERC_CARDIOVASC_PROC                     0.088383\n",
      "with_cc                                  0.063527\n",
      "with_ccmcc                               0.058804\n",
      "SPINAL_FUSION_EXCEPT_CERVICAL            0.037947\n",
      "PSYCHOSES                                0.029591\n",
      "CHRONIC_OBSTRUCTIVE_PULMONARY_DISEASE    0.029318\n",
      "ATHEROSCLEROSIS                          0.027075\n",
      "dtype: float64\n",
      "0.9280200820945559 0.9268526013687541\n",
      "(0.0, 0.1]\n",
      "BRONCHITIS_&_ASTHMA                                            0.222421\n",
      "PULMONARY_EDEMA_&_RESPIRATORY_FAILURE                          0.183953\n",
      "with_mcc                                                       0.057688\n",
      "with_cc                                                        0.052291\n",
      "Percent_COMMUTING_TO_WORK_Car,_truck,_or_van_--_drove_alone    0.010734\n",
      "RACE_One_race_American_Indian_and_Alaska_Native                0.009606\n",
      "without_ccmcc                                                  0.009505\n",
      "RACE_One_race_Asian_Japanese                                   0.007723\n",
      "CHRONIC_OBSTRUCTIVE_PULMONARY_DISEASE                          0.007676\n",
      "RACE_Some_other_race                                           0.007668\n",
      "dtype: float64\n",
      "0.9951348345843759 0.9950940711850271\n",
      "(0.5, 0.6]\n",
      "Percent_COMMUTING_TO_WORK_Public_transportation_(excluding_taxicab)                                         0.035605\n",
      "COMMUTING_TO_WORK_Public_transportation_(excluding_taxicab)                                                 0.032299\n",
      "Percent_COMMUTING_TO_WORK_Car,_truck,_or_van_--_drove_alone                                                 0.028056\n",
      "RACE_One_race_Some_other_race                                                                               0.023989\n",
      "HISPANIC_OR_LATINO_AND_RACE_Not_Hispanic_or_Latino_Two_or_more_races_Two_races_including_Some_other_race    0.023163\n",
      "RACE_One_race_Asian_Chinese                                                                                 0.022240\n",
      "COMMUTING_TO_WORK_Walked                                                                                    0.021994\n",
      "RACE_Two_or_more_races.1                                                                                    0.021838\n",
      "Percent_HISPANIC_OR_LATINO_AND_RACE_Not_Hispanic_or_Latino_Asian_alone                                      0.019785\n",
      "Percent_RACE_Asian                                                                                          0.019569\n",
      "dtype: float64\n",
      "0.9442263978151728 0.9427478107292663\n",
      "(0.6, 0.7]\n",
      "COMMUTING_TO_WORK_Public_transportation_(excluding_taxicab)                                                 0.039788\n",
      "Percent_RACE_One_race_Asian                                                                                 0.033221\n",
      "HISPANIC_OR_LATINO_AND_RACE_Hispanic_or_Latino_(of_any_race)_Other_Hispanic_or_Latino                       0.032822\n",
      "Percent_COMMUTING_TO_WORK_Car,_truck,_or_van_--_drove_alone                                                 0.030586\n",
      "Percent_COMMUTING_TO_WORK_Public_transportation_(excluding_taxicab)                                         0.028771\n",
      "Percent_HISPANIC_OR_LATINO_AND_RACE_Not_Hispanic_or_Latino_Asian_alone                                      0.028508\n",
      "HISPANIC_OR_LATINO_AND_RACE_Not_Hispanic_or_Latino_Two_or_more_races_Two_races_including_Some_other_race    0.026643\n",
      "RACE_One_race_Asian_Korean                                                                                  0.020142\n",
      "HISPANIC_OR_LATINO_AND_RACE_Not_Hispanic_or_Latino_Asian_alone                                              0.017952\n",
      "Percent_RACE_Asian                                                                                          0.017897\n",
      "dtype: float64\n",
      "0.9801305009076191 0.9793460396889642\n",
      "(0.9, 1.01]\n",
      "INCOME_AND_BENEFITS_(IN_2012_INFLATION-ADJUSTED_DOLLARS)_Median_earnings_for_female_full-time,_year-round_workers_(dollars)    0.019010\n",
      "COMMUTING_TO_WORK_Public_transportation_(excluding_taxicab)                                                                    0.016784\n",
      "HISPANIC_OR_LATINO_AND_RACE_Not_Hispanic_or_Latino_Two_or_more_races_Two_races_including_Some_other_race                       0.015678\n",
      "Percent_RACE_One_race_White                                                                                                    0.015343\n",
      "CLASS_OF_WORKER_Government_workers                                                                                             0.014246\n",
      "Percent_COMMUTING_TO_WORK_Public_transportation_(excluding_taxicab)                                                            0.013390\n",
      "Percent_COMMUTING_TO_WORK_Car,_truck,_or_van_--_drove_alone                                                                    0.013276\n",
      "Percent_RACE_One_race_Asian_Filipino                                                                                           0.012411\n",
      "RACE_One_race_Asian_Filipino                                                                                                   0.012025\n",
      "Percent_INDUSTRY_Retail_trade                                                                                                  0.011940\n",
      "dtype: float64\n",
      "0.9983564735318647 0.9985772806436578\n"
     ]
    },
    {
     "name": "stdout",
     "output_type": "stream",
     "text": [
      "(0.7, 0.8]\n",
      "Percent_COMMUTING_TO_WORK_Car,_truck,_or_van_--_drove_alone                 0.041543\n",
      "Percent_COMMUTING_TO_WORK_Public_transportation_(excluding_taxicab)         0.039776\n",
      "Percent_COMMUTING_TO_WORK_Car,_truck,_or_van_--_carpooled                   0.028762\n",
      "COMMUTING_TO_WORK_Public_transportation_(excluding_taxicab)                 0.025931\n",
      "Percent_COMMUTING_TO_WORK_Walked                                            0.024591\n",
      "Percent_RACE_One_race_Asian_Chinese                                         0.022598\n",
      "RACE_One_race_Asian_Filipino                                                0.022027\n",
      "COMMUTING_TO_WORK_Walked                                                    0.019543\n",
      "HISPANIC_OR_LATINO_AND_RACE_Not_Hispanic_or_Latino_Some_other_race_alone    0.019502\n",
      "RACE_One_race_Asian                                                         0.018822\n",
      "dtype: float64\n",
      "0.9928371682284256 0.992224102828268\n",
      "(0.8, 0.9]\n",
      "Percent_COMMUTING_TO_WORK_Car,_truck,_or_van_--_drove_alone                                      0.057049\n",
      "Percent_RACE_One_race_Asian_Chinese                                                              0.040940\n",
      "RACE_One_race_Asian_Filipino                                                                     0.025285\n",
      "Percent_HISPANIC_OR_LATINO_AND_RACE_Hispanic_or_Latino_(of_any_race)_Other_Hispanic_or_Latino    0.022244\n",
      "RACE_One_race_Asian_Chinese                                                                      0.021079\n",
      "Percent_COMMUTING_TO_WORK_Walked                                                                 0.020370\n",
      "Percent_COMMUTING_TO_WORK_Car,_truck,_or_van_--_carpooled                                        0.020327\n",
      "COMMUTING_TO_WORK_Mean_travel_time_to_work_(minutes)                                             0.019250\n",
      "Percent_RACE_White                                                                               0.018926\n",
      "Percent_RACE_One_race_White                                                                      0.017458\n",
      "dtype: float64\n",
      "0.9973098497113608 0.9971790909313906\n"
     ]
    }
   ],
   "source": [
    "label = pd.cut(df[target],bins).astype(str)\n",
    "predicted = []\n",
    "\n",
    "for i in label.unique():\n",
    "    num_df[target] = label == i\n",
    "    print(i)\n",
    "    model_clean, feat = random_forest(num_df, show=10)\n",
    "    X = num_df.drop(columns=[target])\n",
    "    a = float(i.split(',')[0][1:])- float(i.split(',')[1][:-1])/2\n",
    "\n",
    "    predicted.append(list(model_clean.predict(X)*a))"
   ]
  },
  {
   "cell_type": "code",
   "execution_count": 29,
   "metadata": {},
   "outputs": [],
   "source": [
    "dsd = [i for i in dsd]"
   ]
  },
  {
   "cell_type": "code",
   "execution_count": null,
   "metadata": {},
   "outputs": [],
   "source": []
  },
  {
   "cell_type": "code",
   "execution_count": 33,
   "metadata": {},
   "outputs": [],
   "source": [
    "s =pd.Series(data=[i for i in range(0,100)], name='hat')"
   ]
  },
  {
   "cell_type": "code",
   "execution_count": 36,
   "metadata": {},
   "outputs": [
    {
     "data": {
      "text/plain": [
       "0      0\n",
       "1      1\n",
       "2      2\n",
       "3      8\n",
       "4      8\n",
       "5      5\n",
       "6      6\n",
       "7      7\n",
       "8      8\n",
       "9      9\n",
       "10    10\n",
       "11    11\n",
       "12    12\n",
       "13    13\n",
       "14    14\n",
       "15    15\n",
       "16    16\n",
       "17    17\n",
       "18    18\n",
       "19    19\n",
       "20    20\n",
       "21    21\n",
       "22    22\n",
       "23    23\n",
       "24    24\n",
       "25    25\n",
       "26    26\n",
       "27    27\n",
       "28    28\n",
       "29    29\n",
       "      ..\n",
       "70    70\n",
       "71    71\n",
       "72    72\n",
       "73    73\n",
       "74    74\n",
       "75    75\n",
       "76    76\n",
       "77    77\n",
       "78    78\n",
       "79    79\n",
       "80    80\n",
       "81    81\n",
       "82    82\n",
       "83    83\n",
       "84    84\n",
       "85    85\n",
       "86    86\n",
       "87    87\n",
       "88    88\n",
       "89    89\n",
       "90    90\n",
       "91    91\n",
       "92    92\n",
       "93    93\n",
       "94    94\n",
       "95    95\n",
       "96    96\n",
       "97    97\n",
       "98    98\n",
       "99    99\n",
       "Name: hat, Length: 100, dtype: int64"
      ]
     },
     "execution_count": 36,
     "metadata": {},
     "output_type": "execute_result"
    }
   ],
   "source": [
    "s.iloc[[3,4]]= 8\n",
    "s"
   ]
  },
  {
   "cell_type": "code",
   "execution_count": null,
   "metadata": {},
   "outputs": [],
   "source": []
  }
 ],
 "metadata": {
  "kernelspec": {
   "display_name": "Python [conda env:.conda-learn-env] *",
   "language": "python",
   "name": "conda-env-.conda-learn-env-py"
  },
  "language_info": {
   "codemirror_mode": {
    "name": "ipython",
    "version": 3
   },
   "file_extension": ".py",
   "mimetype": "text/x-python",
   "name": "python",
   "nbconvert_exporter": "python",
   "pygments_lexer": "ipython3",
   "version": "3.6.6"
  }
 },
 "nbformat": 4,
 "nbformat_minor": 2
}
