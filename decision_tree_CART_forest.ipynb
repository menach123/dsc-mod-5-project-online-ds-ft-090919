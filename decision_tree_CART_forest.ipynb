{
 "cells": [
  {
   "cell_type": "code",
   "execution_count": 1,
   "metadata": {},
   "outputs": [],
   "source": [
    "import pandas as pd\n",
    "import numpy as np\n",
    "import matplotlib.pyplot as plt\n",
    "import matplotlib\n",
    "import seaborn as sns\n",
    "current_palette = sns.color_palette()\n",
    "import warnings\n",
    "warnings.filterwarnings('ignore')\n",
    "import itertools\n",
    "import pandas as pd\n",
    "import numpy as np\n",
    "import statsmodels.api as sm\n",
    "import matplotlib.pyplot as plt\n",
    "from matplotlib.pylab import rcParams\n",
    "from IPython.display import clear_output\n",
    "sns.set_style('darkgrid')\n",
    "np.random.seed(0)\n",
    "from sklearn.model_selection import train_test_split\n",
    "from sklearn.metrics import accuracy_score, confusion_matrix, classification_report\n",
    "from sklearn.tree import DecisionTreeClassifier\n",
    "from sklearn.ensemble import BaggingClassifier, RandomForestClassifier\n",
    "from sklearn.preprocessing import StandardScaler\n",
    "from sklearn.tree import DecisionTreeRegressor\n",
    "from sklearn.metrics import mean_squared_error as mse\n",
    "from sklearn.metrics import r2_score, accuracy_score\n",
    "from sklearn.pipeline import Pipeline\n",
    "import obtain as ob\n",
    "from sklearn.decomposition import PCA\n",
    "pca= PCA(n_components=50)"
   ]
  },
  {
   "cell_type": "code",
   "execution_count": null,
   "metadata": {},
   "outputs": [],
   "source": []
  },
  {
   "cell_type": "code",
   "execution_count": 2,
   "metadata": {},
   "outputs": [],
   "source": [
    "poverty_df = ob.upload_county_acs_data('ACSDP5Y2012.DP03_data_with_overlays_2019-12-31T163946.csv')\n",
    "df = poverty_df\n",
    "population_df = ob.upload_county_acs_data('ACSDP5Y2012.DP05_data_with_overlays_2019-12-31T193014.csv')\n",
    "df = ob.merge_acs_data(df,population_df)\n",
    "df = ob.remove_duplicate_countystate(df) \n",
    "num_df, object_df = ob.separate_num_columns(df)\n",
    "pull_columns = [i for i in num_df.columns]\n",
    "cms_df = ob.cms_data()\n",
    "df = cms_df.merge(df.drop(columns =['County','State']), how='left', on=['CountyState'])\n",
    "target = 'ratio_to_max_payment'\n",
    "cms_labels =ob.cms_procedure_dummy_labels(df).columns\n"
   ]
  },
  {
   "cell_type": "code",
   "execution_count": 3,
   "metadata": {},
   "outputs": [],
   "source": [
    "X = ob.cms_procedure_dummy_labels(df)\n",
    "\n",
    "X['max_payment'] = df['max_payment']\n",
    "y = np.log(df[target])"
   ]
  },
  {
   "cell_type": "code",
   "execution_count": 4,
   "metadata": {},
   "outputs": [],
   "source": [
    "\n",
    "data_train, data_test, target_train, target_test = train_test_split(X, y, test_size = 0.25)"
   ]
  },
  {
   "cell_type": "code",
   "execution_count": 5,
   "metadata": {
    "scrolled": true
   },
   "outputs": [
    {
     "name": "stdout",
     "output_type": "stream",
     "text": [
      "MSE score: 0.059291496092455875\n",
      "R-sq score: 0.5176494443733016\n",
      "R-sq score train: 0.5143167673878174\n"
     ]
    }
   ],
   "source": [
    "regressor = DecisionTreeRegressor(max_depth=6)\n",
    "regressor.fit(data_train, target_train)\n",
    "y_pred = regressor.predict(data_test)\n",
    "y_PRED = regressor.predict(data_train)\n",
    "print('MSE score:', mse(target_test, y_pred))\n",
    "print('R-sq score:', r2_score(target_test,y_pred))\n",
    "print('R-sq score train:', r2_score(target_train,y_PRED))\n"
   ]
  },
  {
   "cell_type": "code",
   "execution_count": 6,
   "metadata": {
    "scrolled": true
   },
   "outputs": [],
   "source": [
    "num_df, object_df = ob.separate_num_columns(df)\n",
    "X, cms_not = ob.remove_cms(num_df)\n",
    "X['max_payment'] = df['max_payment']\n",
    "y = np.log(df[target])"
   ]
  },
  {
   "cell_type": "code",
   "execution_count": 7,
   "metadata": {},
   "outputs": [],
   "source": [
    "data_train, data_test, target_train, target_test = train_test_split(X, y, test_size = 0.25)"
   ]
  },
  {
   "cell_type": "code",
   "execution_count": 8,
   "metadata": {},
   "outputs": [
    {
     "name": "stdout",
     "output_type": "stream",
     "text": [
      "MSE score: 0.05077184376315423\n",
      "R-sq score: 0.5825906766516146\n",
      "R-sq score train: 0.5897794100961931\n"
     ]
    }
   ],
   "source": [
    "regressor = DecisionTreeRegressor(max_depth=6)\n",
    "regressor.fit(data_train, target_train)\n",
    "y_pred = regressor.predict(data_test)\n",
    "y_PRED = regressor.predict(data_train)\n",
    "print('MSE score:', mse(target_test, y_pred))\n",
    "print('R-sq score:', r2_score(target_test,y_pred))\n",
    "print('R-sq score train:', r2_score(target_train,y_PRED))"
   ]
  },
  {
   "cell_type": "code",
   "execution_count": 9,
   "metadata": {},
   "outputs": [],
   "source": [
    "feature_dict = {}\n",
    "for i in pull_columns:\n",
    "    feature_dict[i] = 0\n",
    "for i in cms_labels:\n",
    "    feature_dict[i] = 0\n",
    "feature_dict['max_payment'] = 0"
   ]
  },
  {
   "cell_type": "code",
   "execution_count": 10,
   "metadata": {},
   "outputs": [],
   "source": [
    "num_cycle = 20\n",
    "n_estimator = 100\n",
    "feature_ = 5"
   ]
  },
  {
   "cell_type": "code",
   "execution_count": 11,
   "metadata": {},
   "outputs": [
    {
     "name": "stdout",
     "output_type": "stream",
     "text": [
      "MSE score: 0.013250326565323448 R-sq score: 0.7760957624106026 R-sq score train: 0.7709811671117355\n",
      "MSE score: 0.011203833049259142 R-sq score: 0.8125210835271656 R-sq score train: 0.8152604109476737\n",
      "MSE score: 0.009165575401560275 R-sq score: 0.833119945228317 R-sq score train: 0.8279042479234568\n",
      "MSE score: 0.008177534718152383 R-sq score: 0.8545436101723395 R-sq score train: 0.8535688993957643\n",
      "MSE score: 0.007323543796062308 R-sq score: 0.8950992513566696 R-sq score train: 0.8977951370118411\n",
      "MSE score: 0.0055951711464860485 R-sq score: 0.9057953828841898 R-sq score train: 0.9082267483735977\n"
     ]
    }
   ],
   "source": [
    "score = 1266227.0289008094\n",
    "for cycle in range(0,num_cycle):\n",
    "    data_train, data_test, target_train, target_test = train_test_split(X, y, test_size = 0.25)\n",
    "    model_list = []\n",
    "    regressor = DecisionTreeRegressor(max_depth=6)\n",
    "    for i in range(0,n_estimator):\n",
    "        columns = [j for j in np.random.choice(pull_columns, feature_)]\n",
    "        columns.append('max_payment')\n",
    "        for k in cms_labels:\n",
    "            columns.append(k)\n",
    "        transfer_model =regressor.fit(data_train[columns], target_train)\n",
    "        model_list.append({'model':transfer_model, 'feature':columns})\n",
    "    test = np.zeros(len(target_test))\n",
    "    train = np.zeros(len(target_train))\n",
    "    for i in model_list:\n",
    "        model = i['model']\n",
    "        y_pred = model.predict(data_test[i['feature']])\n",
    "        y_PRED = model.predict(data_train[i['feature']])\n",
    "        test += y_pred\n",
    "        train += y_PRED\n",
    "    test = test/len(model_list)\n",
    "    train = train/len(model_list)\n",
    "    for j,i in enumerate(model_list[0]['feature']):\n",
    "        feature_dict[i] += model_list[0]['model'].feature_importances_[j]\n",
    "    if mse(test, y_pred) < score:\n",
    "        print('MSE score:', mse(test, y_pred),'R-sq score:', r2_score(test,y_pred), \n",
    "          'R-sq score train:', r2_score(train,y_PRED))\n",
    "        score = mse(test, y_pred)\n",
    "        final_model = model_list"
   ]
  },
  {
   "cell_type": "code",
   "execution_count": 12,
   "metadata": {
    "scrolled": false
   },
   "outputs": [
    {
     "data": {
      "image/png": "[encoded data removed]",
      "text/plain": [
       "<Figure size 432x288 with 1 Axes>"
      ]
     },
     "metadata": {
      "needs_background": "light"
     },
     "output_type": "display_data"
    },
    {
     "data": {
      "image/png": "[encoded data removed]",
      "text/plain": [
       "<Figure size 432x288 with 1 Axes>"
      ]
     },
     "metadata": {
      "needs_background": "light"
     },
     "output_type": "display_data"
    },
    {
     "data": {
      "text/plain": [
       "0.09134314588273593"
      ]
     },
     "execution_count": 12,
     "metadata": {},
     "output_type": "execute_result"
    },
    {
     "data": {
      "image/png": "[encoded data removed]",
      "text/plain": [
       "<Figure size 432x288 with 1 Axes>"
      ]
     },
     "metadata": {
      "needs_background": "light"
     },
     "output_type": "display_data"
    }
   ],
   "source": [
    "test = np.zeros(len(target_test))\n",
    "train = np.zeros(len(target_train))\n",
    "for i in final_model:\n",
    "    model = i['model']\n",
    "    y_pred = model.predict(data_test[i['feature']])\n",
    "    y_PRED = model.predict(data_train[i['feature']])\n",
    "    test += y_pred\n",
    "    train += y_PRED\n",
    "test = test/len(model_list)\n",
    "train = train/len(model_list)\n",
    "\n",
    "sns.distplot(np.exp(test)-np.exp(target_test))\n",
    "\n",
    "plt.show()\n",
    "sns.distplot(np.exp(train)-np.exp(target_train))\n",
    "\n",
    "plt.show()\n",
    "sns.distplot(np.exp(train))\n",
    "sns.distplot(np.exp(target_train))\n",
    "(np.exp(test)-np.exp(target_test)).std()"
   ]
  },
  {
   "cell_type": "code",
   "execution_count": 13,
   "metadata": {},
   "outputs": [
    {
     "data": {
      "text/plain": [
       "<matplotlib.legend.Legend at 0x1391435fc50>"
      ]
     },
     "execution_count": 13,
     "metadata": {},
     "output_type": "execute_result"
    },
    {
     "data": {
      "image/png": "[encoded data removed]",
      "text/plain": [
       "<Figure size 432x288 with 1 Axes>"
      ]
     },
     "metadata": {
      "needs_background": "light"
     },
     "output_type": "display_data"
    }
   ],
   "source": [
    "sns.distplot(np.exp(train), label='Pred')\n",
    "sns.distplot(np.exp(target_train))\n",
    "plt.legend()"
   ]
  },
  {
   "cell_type": "code",
   "execution_count": null,
   "metadata": {},
   "outputs": [],
   "source": []
  },
  {
   "cell_type": "code",
   "execution_count": 14,
   "metadata": {},
   "outputs": [],
   "source": [
    "test = np.zeros(len(X))\n",
    "train = np.zeros(len(target_train))\n",
    "for i in final_model:\n",
    "    model = i['model']\n",
    "    y_pred = model.predict(X[i['feature']])\n",
    "    y_PRED = model.predict(data_train[i['feature']])\n",
    "    test += y_pred\n",
    "    train += y_PRED\n",
    "test = test/len(model_list)\n",
    "train = train/len(model_list)"
   ]
  },
  {
   "cell_type": "code",
   "execution_count": null,
   "metadata": {},
   "outputs": [],
   "source": []
  }
 ],
 "metadata": {
  "kernelspec": {
   "display_name": "Python [conda env:.conda-learn-env] *",
   "language": "python",
   "name": "conda-env-.conda-learn-env-py"
  },
  "language_info": {
   "codemirror_mode": {
    "name": "ipython",
    "version": 3
   },
   "file_extension": ".py",
   "mimetype": "text/x-python",
   "name": "python",
   "nbconvert_exporter": "python",
   "pygments_lexer": "ipython3",
   "version": "3.6.6"
  }
 },
 "nbformat": 4,
 "nbformat_minor": 2
}
